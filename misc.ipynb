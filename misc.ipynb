{
 "cells": [
  {
   "cell_type": "code",
   "execution_count": 48,
   "metadata": {},
   "outputs": [],
   "source": [
    "import pandas as pd"
   ]
  },
  {
   "cell_type": "code",
   "execution_count": 2,
   "metadata": {},
   "outputs": [],
   "source": [
    "df = pd.read_csv(\"Output/testingDataUNB.csv\")"
   ]
  },
  {
   "cell_type": "code",
   "execution_count": 8,
   "metadata": {},
   "outputs": [],
   "source": [
    "commonBots = ['147.32.84.180', '147.32.84.170'] # Neris and Rbot ip addresses"
   ]
  },
  {
   "cell_type": "code",
   "execution_count": 11,
   "metadata": {},
   "outputs": [],
   "source": [
    "result = df[(df.SrcAddr.isin(commonBots)) | (df.DstAddr.isin(commonBots))]"
   ]
  },
  {
   "cell_type": "code",
   "execution_count": 12,
   "metadata": {},
   "outputs": [],
   "source": [
    "filename = \"Output/testingDataUNB-filtered.csv\"\n",
    "result.to_csv(filename, encoding='utf-8', index=False)"
   ]
  },
  {
   "cell_type": "code",
   "execution_count": 1,
   "metadata": {},
   "outputs": [],
   "source": [
    "import pickle as pk"
   ]
  },
  {
   "cell_type": "code",
   "execution_count": 4,
   "metadata": {},
   "outputs": [],
   "source": [
    "with open(\"Models/LinearSVCModel.pkl\", 'rb') as file:\n",
    "    model = pk.load(file)"
   ]
  },
  {
   "cell_type": "code",
   "execution_count": 25,
   "metadata": {},
   "outputs": [
    {
     "data": {
      "text/plain": [
       "array([[ 1.17683409e-04, -4.34067903e-05, -5.07704955e-05,\n",
       "        -5.63441597e-02,  4.39507152e-05, -4.35119920e-04,\n",
       "        -3.42475682e-01,  4.33034976e-04, -3.42274434e-04,\n",
       "         3.03078730e-04, -4.33887618e-04, -1.70206781e-05,\n",
       "        -6.33968989e-04, -2.69821809e-03,  2.46934957e-05,\n",
       "         5.51784014e-04,  4.26159124e-07,  5.33298531e-05,\n",
       "         2.85617987e-03, -2.11667773e-01, -1.49544741e-02,\n",
       "         1.68326180e+00, -8.70164880e-01]])"
      ]
     },
     "execution_count": 25,
     "metadata": {},
     "output_type": "execute_result"
    }
   ],
   "source": [
    "model.coef_"
   ]
  },
  {
   "cell_type": "code",
   "execution_count": 46,
   "metadata": {},
   "outputs": [
    {
     "data": {
      "image/png": "[encoded data removed]",
      "text/plain": [
       "<Figure size 432x288 with 1 Axes>"
      ]
     },
     "metadata": {
      "needs_background": "light"
     },
     "output_type": "display_data"
    }
   ],
   "source": [
    "# Source https://stackoverflow.com/questions/41592661/determining-the-most-contributing-features-for-svm-classifier-in-sklearn\n",
    "\n",
    "from sklearn.feature_extraction.text import CountVectorizer\n",
    "from sklearn.svm import LinearSVC\n",
    "import matplotlib.pyplot as plt\n",
    "import numpy as np\n",
    "def f_importances(coef, names):\n",
    "    imp = coef\n",
    "    coef_name_pair = zip(imp,names)\n",
    "    coef_name_pair = [(i,x) for i,x in coef_name_pair if abs(i) > 0.005]\n",
    "\n",
    "    imp,names = zip(*sorted(coef_name_pair))\n",
    "    colors = ['blue' if i > 0 else 'red' for i in imp]\n",
    "    plt.barh(range(len(names)), imp, align='center', color=colors)\n",
    "    plt.yticks(range(len(names)), names)\n",
    "    plt.show()\n",
    "\n",
    "f_importances(model.coef_[0], [\"Dur\",\"Sport\",\"Dport\",\"TotPkts\",\"TotBytes\",\"SrcBytes\",\"ProtoDisc\",\"SrcAddr_App\",\"Src_Dport_unique\",\"Src_DstAddr_unique\",\"Src_Sport_unique\",\"Src_TotPkts_mean\",\"DstAddr_App\",\"Dst_Dport_unique\",\"Dst_SrcAddr_unique\",\"Dst_Sport_unique\",\"Dst_TotPkts_mean\",\"SrcDst_Sport_unique\",\"SrcDst_Dport_unique\",\"TotBytesDisc\",\"SrcBytesDisc\",\"SportDisc\",\"DportDisc\"])"
   ]
  },
  {
   "cell_type": "code",
   "execution_count": 49,
   "metadata": {},
   "outputs": [],
   "source": [
    "data = pd.read_csv(\"Output/finalTestingData.csv\")"
   ]
  },
  {
   "cell_type": "code",
   "execution_count": 50,
   "metadata": {},
   "outputs": [],
   "source": [
    "neris_ip = '147.32.84.165'"
   ]
  },
  {
   "cell_type": "code",
   "execution_count": 66,
   "metadata": {},
   "outputs": [
    {
     "data": {
      "text/plain": [
       "1    22937\n",
       "2       61\n",
       "0       22\n",
       "Name: SportDisc, dtype: int64"
      ]
     },
     "execution_count": 66,
     "metadata": {},
     "output_type": "execute_result"
    }
   ],
   "source": [
    "data[(data.SrcAddr == neris_ip) | (data.DstAddr == neris_ip)].SportDisc.value_counts()"
   ]
  },
  {
   "cell_type": "code",
   "execution_count": 70,
   "metadata": {},
   "outputs": [
    {
     "data": {
      "text/plain": [
       "0    21653\n",
       "1     1072\n",
       "2      295\n",
       "Name: DportDisc, dtype: int64"
      ]
     },
     "execution_count": 70,
     "metadata": {},
     "output_type": "execute_result"
    }
   ],
   "source": [
    "data[(data.SrcAddr == neris_ip) | (data.DstAddr == neris_ip)].DportDisc.value_counts()"
   ]
  },
  {
   "cell_type": "code",
   "execution_count": 68,
   "metadata": {},
   "outputs": [
    {
     "data": {
      "text/plain": [
       "4    15169\n",
       "3     7851\n",
       "Name: ProtoDisc, dtype: int64"
      ]
     },
     "execution_count": 68,
     "metadata": {},
     "output_type": "execute_result"
    }
   ],
   "source": [
    "data[(data.SrcAddr == neris_ip) | (data.DstAddr == neris_ip)].ProtoDisc.value_counts()"
   ]
  },
  {
   "cell_type": "code",
   "execution_count": 71,
   "metadata": {},
   "outputs": [
    {
     "data": {
      "text/plain": [
       "2         15552\n",
       "3          3016\n",
       "1          2204\n",
       "10          261\n",
       "6           245\n",
       "4           223\n",
       "8           139\n",
       "11          127\n",
       "12           88\n",
       "15           85\n",
       "16           82\n",
       "14           56\n",
       "13           55\n",
       "7            51\n",
       "9            44\n",
       "17           41\n",
       "23           41\n",
       "22           40\n",
       "28           34\n",
       "48           32\n",
       "5            32\n",
       "36           23\n",
       "33           22\n",
       "25           22\n",
       "19           21\n",
       "18           20\n",
       "21           18\n",
       "30           17\n",
       "20           15\n",
       "37           14\n",
       "          ...  \n",
       "255           1\n",
       "219           1\n",
       "91            1\n",
       "197           1\n",
       "263           1\n",
       "6918          1\n",
       "15234         1\n",
       "3892          1\n",
       "54            1\n",
       "150           1\n",
       "182           1\n",
       "198           1\n",
       "694           1\n",
       "151           1\n",
       "167           1\n",
       "183           1\n",
       "607           1\n",
       "874           1\n",
       "391           1\n",
       "176254        1\n",
       "168           1\n",
       "216           1\n",
       "89            1\n",
       "105           1\n",
       "201           1\n",
       "217           1\n",
       "329           1\n",
       "154           1\n",
       "18963         1\n",
       "295           1\n",
       "Name: TotPkts, Length: 185, dtype: int64"
      ]
     },
     "execution_count": 71,
     "metadata": {},
     "output_type": "execute_result"
    }
   ],
   "source": [
    "data[(data.SrcAddr == neris_ip) | (data.DstAddr == neris_ip)].TotPkts.value_counts()"
   ]
  },
  {
   "cell_type": "code",
   "execution_count": null,
   "metadata": {},
   "outputs": [],
   "source": []
  }
 ],
 "metadata": {
  "kernelspec": {
   "display_name": "Python 3",
   "language": "python",
   "name": "python3"
  },
  "language_info": {
   "codemirror_mode": {
    "name": "ipython",
    "version": 3
   },
   "file_extension": ".py",
   "mimetype": "text/x-python",
   "name": "python",
   "nbconvert_exporter": "python",
   "pygments_lexer": "ipython3",
   "version": "3.7.3"
  }
 },
 "nbformat": 4,
 "nbformat_minor": 2
}
